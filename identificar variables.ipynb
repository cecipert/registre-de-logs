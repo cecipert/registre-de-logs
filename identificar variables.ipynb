{
 "cells": [
  {
   "cell_type": "markdown",
   "id": "f534caf6",
   "metadata": {},
   "source": [
    "# S05 T01 Expresiones regulares y parseo de logs"
   ]
  },
  {
   "cell_type": "markdown",
   "id": "67d71bda",
   "metadata": {},
   "source": [
    "## Exercici 1\n",
    "Obtener los datos y separarlos en columnas"
   ]
  },
  {
   "cell_type": "code",
   "execution_count": 1,
   "id": "80720742",
   "metadata": {},
   "outputs": [],
   "source": [
    "import pandas as pd\n",
    "import re\n",
    "from datetime import datetime\n",
    "import numpy as np\n",
    "import matplotlib.pyplot as plt"
   ]
  },
  {
   "cell_type": "code",
   "execution_count": 2,
   "id": "03d74754",
   "metadata": {},
   "outputs": [],
   "source": [
    "# leo el archivo completo y lo cargo en f\n",
    "# Pongo '\\n' como separador porque en algunas líneas había 2 \\n seguidos y daba error al leerlas\n",
    "# De todas formas no quería un separador a esta altura porque tengo líneas diferentes, como:\n",
    "# localhost 127.0.0.1 - - [23/Feb/2014:03:10:31 +0100] \"OPTIONS * HTTP/1.0\" 200 - \"-\" \"Apache (internal dummy connection)\" VLOG=-\n",
    "# www.akumenius.com 66.249.76.216 - - [23/Feb/2014:03:10:40 +0100] \"GET /hoteles-baratos/ofertas-hotel-Howard-Jhonson-hotel-&-Spa--Villa-Gral-Belgrano-en-Villa%20General%20Belgrano-146416b-destinos.html HTTP/1.1\" 404 3100 \"-\" \"Mozilla/5.0 (compatible; Googlebot/2.1; +http://www.google.com/bot.html)\" VLOG=-\n",
    "\n",
    "# f = pd.read_csv(\"Web_access_log-akumenius.com.txt\", header = None, sep='\\n')\n",
    "f = open(\"Web_access_log-akumenius.com.txt\", \"r\")\n"
   ]
  },
  {
   "cell_type": "markdown",
   "id": "1cde9448",
   "metadata": {},
   "source": [
    "## De cada línea del archivo se obtiene:\n",
    "* sitio: dirección de destino\n",
    "* ip: dirección que origina el comando\n",
    "* fecha\n",
    "* comando: comando que se ejecutó\n",
    "* parametros: parámetros del comando ejecutado\n",
    "* vlog: contenido del VLOG"
   ]
  },
  {
   "cell_type": "code",
   "execution_count": 3,
   "id": "aba27f1f",
   "metadata": {},
   "outputs": [],
   "source": [
    "# creo el dataframe vacío\n",
    "log_df = pd.DataFrame(columns = ['sitio', 'ip', 'fecha', 'comando', 'parametros', 'vlog'])\n",
    "\n",
    "# leo la primera línea\n",
    "lin = f.readline()\n"
   ]
  },
  {
   "cell_type": "code",
   "execution_count": 4,
   "id": "de81ad70",
   "metadata": {},
   "outputs": [
    {
     "name": "stdout",
     "output_type": "stream",
     "text": [
      "Dataframe completado\n"
     ]
    }
   ],
   "source": [
    "while lin:\n",
    "    # separo la línea en dos partes\n",
    "    mitad1, mitad2 = re.split('\"',lin , 1)\n",
    "    mitad2 = mitad2.rstrip('\\n')\n",
    "    #print(mitad2)\n",
    "\n",
    "    # busco el sitio web y la dirección ip de origen del comando\n",
    "    sitio, ip, resto = re.split(' ',mitad1 , 2)\n",
    "    #print('Sitio:', sitio, 'IP:', ip)\n",
    "\n",
    "    # en la primera mitad sólo me queda la fecha\n",
    "    fecha = re.search('\\d{2}/\\w{3}/\\d{4}:\\d{2}:\\d{2}:\\d{2}\\s{1}\\+{1}\\d{4}', resto).group(0)\n",
    "    fecha_dt = datetime.strptime(fecha, '%d/%b/%Y:%H:%M:%S +%f')\n",
    "    #print('Fecha:', fecha_dt.strftime(\"%c\"))\n",
    "\n",
    "    # analizo la segunda mitad, busco el comando y el VLOG\n",
    "    tercios = mitad2.rpartition('VLOG=')\n",
    "    vlog = tercios[2]\n",
    "    #print(vlog)\n",
    "    \n",
    "    # el |- es porque hay comandos 'nulos' en vez de un nombre tienen -        \n",
    "    cmd = re.search('^[A-Z]+|-', tercios[0])\n",
    "    \n",
    "    if cmd is None:\n",
    "        # no hay un comando (porque siempre empiezan con letras)\n",
    "        continue\n",
    "    \n",
    "    comando = cmd.group(0)\n",
    "    #print(comando)\n",
    "\n",
    "    # lo que queda en el medio son los parámetros del comando\n",
    "    parametros = tercios[0].rpartition(comando)[2]\n",
    "    #print(parametros)\n",
    "    \n",
    "    # guardo los datos de la línea en el dataframe\n",
    "    log_df = log_df.append({'sitio': sitio, 'ip': ip, 'fecha': fecha_dt, 'comando': comando, \n",
    "                            'parametros': parametros, 'vlog': vlog}, ignore_index=True)\n",
    "\n",
    "    lin = f.readline()\n",
    "f.close()  \n",
    "print('Dataframe completado')\n"
   ]
  },
  {
   "cell_type": "markdown",
   "id": "6aded7c5",
   "metadata": {},
   "source": [
    "## Exercici 2\n",
    "Limpiar y preprocesar los datos"
   ]
  },
  {
   "cell_type": "code",
   "execution_count": 5,
   "id": "28ad2470",
   "metadata": {},
   "outputs": [
    {
     "data": {
      "text/plain": [
       "(261873, 6)"
      ]
     },
     "execution_count": 5,
     "metadata": {},
     "output_type": "execute_result"
    }
   ],
   "source": [
    "log_df.shape"
   ]
  },
  {
   "cell_type": "code",
   "execution_count": 6,
   "id": "ee2c0f27",
   "metadata": {},
   "outputs": [
    {
     "name": "stdout",
     "output_type": "stream",
     "text": [
      "                sitio             ip                   fecha  comando  \\\n",
      "0           localhost      127.0.0.1 2014-02-23 03:10:31.010  OPTIONS   \n",
      "1           localhost      127.0.0.1 2014-02-23 03:10:31.010  OPTIONS   \n",
      "2           localhost      127.0.0.1 2014-02-23 03:10:31.010  OPTIONS   \n",
      "3           localhost      127.0.0.1 2014-02-23 03:10:31.010  OPTIONS   \n",
      "4           localhost      127.0.0.1 2014-02-23 03:10:31.010  OPTIONS   \n",
      "5           localhost      127.0.0.1 2014-02-23 03:10:31.010  OPTIONS   \n",
      "6           localhost      127.0.0.1 2014-02-23 03:10:31.010  OPTIONS   \n",
      "7           localhost      127.0.0.1 2014-02-23 03:10:31.010  OPTIONS   \n",
      "8           localhost      127.0.0.1 2014-02-23 03:10:31.010  OPTIONS   \n",
      "9           localhost      127.0.0.1 2014-02-23 03:10:31.010  OPTIONS   \n",
      "10          localhost      127.0.0.1 2014-02-23 03:10:31.010  OPTIONS   \n",
      "11          localhost      127.0.0.1 2014-02-23 03:10:31.010  OPTIONS   \n",
      "12          localhost      127.0.0.1 2014-02-23 03:10:31.010  OPTIONS   \n",
      "13          localhost      127.0.0.1 2014-02-23 03:10:31.010  OPTIONS   \n",
      "14          localhost      127.0.0.1 2014-02-23 03:10:31.010  OPTIONS   \n",
      "15          localhost      127.0.0.1 2014-02-23 03:10:31.010  OPTIONS   \n",
      "16          localhost      127.0.0.1 2014-02-23 03:10:31.010  OPTIONS   \n",
      "17          localhost      127.0.0.1 2014-02-23 03:10:31.010  OPTIONS   \n",
      "18          localhost      127.0.0.1 2014-02-23 03:10:31.010  OPTIONS   \n",
      "19          localhost      127.0.0.1 2014-02-23 03:10:31.010  OPTIONS   \n",
      "20          localhost      127.0.0.1 2014-02-23 03:10:31.010  OPTIONS   \n",
      "21          localhost      127.0.0.1 2014-02-23 03:10:31.010  OPTIONS   \n",
      "22  www.akumenius.com  66.249.76.216 2014-02-23 03:10:31.010      GET   \n",
      "23  www.akumenius.com  66.249.76.216 2014-02-23 03:10:33.010      GET   \n",
      "24  www.akumenius.com  66.249.76.216 2014-02-23 03:10:35.010      GET   \n",
      "\n",
      "                                           parametros vlog  \n",
      "0    * HTTP/1.0\" 200 - \"-\" \"Apache (internal dummy...    -  \n",
      "1    * HTTP/1.0\" 200 - \"-\" \"Apache (internal dummy...    -  \n",
      "2    * HTTP/1.0\" 200 - \"-\" \"Apache (internal dummy...    -  \n",
      "3    * HTTP/1.0\" 200 - \"-\" \"Apache (internal dummy...    -  \n",
      "4    * HTTP/1.0\" 200 - \"-\" \"Apache (internal dummy...    -  \n",
      "5    * HTTP/1.0\" 200 - \"-\" \"Apache (internal dummy...    -  \n",
      "6    * HTTP/1.0\" 200 - \"-\" \"Apache (internal dummy...    -  \n",
      "7    * HTTP/1.0\" 200 - \"-\" \"Apache (internal dummy...    -  \n",
      "8    * HTTP/1.0\" 200 - \"-\" \"Apache (internal dummy...    -  \n",
      "9    * HTTP/1.0\" 200 - \"-\" \"Apache (internal dummy...    -  \n",
      "10   * HTTP/1.0\" 200 - \"-\" \"Apache (internal dummy...    -  \n",
      "11   * HTTP/1.0\" 200 - \"-\" \"Apache (internal dummy...    -  \n",
      "12   * HTTP/1.0\" 200 - \"-\" \"Apache (internal dummy...    -  \n",
      "13   * HTTP/1.0\" 200 - \"-\" \"Apache (internal dummy...    -  \n",
      "14   * HTTP/1.0\" 200 - \"-\" \"Apache (internal dummy...    -  \n",
      "15   * HTTP/1.0\" 200 - \"-\" \"Apache (internal dummy...    -  \n",
      "16   * HTTP/1.0\" 200 - \"-\" \"Apache (internal dummy...    -  \n",
      "17   * HTTP/1.0\" 200 - \"-\" \"Apache (internal dummy...    -  \n",
      "18   * HTTP/1.0\" 200 - \"-\" \"Apache (internal dummy...    -  \n",
      "19   * HTTP/1.0\" 200 - \"-\" \"Apache (internal dummy...    -  \n",
      "20   * HTTP/1.0\" 200 - \"-\" \"Apache (internal dummy...    -  \n",
      "21   * HTTP/1.0\" 200 - \"-\" \"Apache (internal dummy...    -  \n",
      "22   /hoteles-baratos/ofertas-hotel-Club-&-Hotel-L...    -  \n",
      "23   /hoteles-baratos/ofertas-hotel-Metropolis-Hot...    -  \n",
      "24   /hoteles-baratos/ofertas-hotel-Faena-Hotel-Bu...    -  \n"
     ]
    }
   ],
   "source": [
    "# esto me va a servir para imprimir la fecha fecha_dt.strftime(\"%c\")\n",
    "# miro algunas líneas del df:\n",
    "print(log_df.head(25))"
   ]
  },
  {
   "cell_type": "code",
   "execution_count": 8,
   "id": "e8e64d06",
   "metadata": {},
   "outputs": [
    {
     "data": {
      "text/plain": [
       "array(['OPTIONS', 'GET', 'HEAD', 'POST', '-'], dtype=object)"
      ]
     },
     "execution_count": 8,
     "metadata": {},
     "output_type": "execute_result"
    }
   ],
   "source": [
    "# aprecen solo 5 comandos, pero uno es '-'\n",
    "pd.unique(log_df['comando'].values)"
   ]
  },
  {
   "cell_type": "code",
   "execution_count": 9,
   "id": "d92d9d92",
   "metadata": {},
   "outputs": [],
   "source": [
    "# elimino los comandos '-' porque no aportan \n",
    "# tienen la forma\n",
    "# 7916\tlocalhost\t62.175.136.122\t2014-02-24 13:08:00.010\t-\t\"\t-\n",
    "# 7921\tlocalhost\t62.175.136.122\t2014-02-24 13:08:01.010\t-\t\"\t-\n",
    "filtro = log_df['comando'] != '-'\n",
    "log_df = log_df.loc[filtro]"
   ]
  },
  {
   "cell_type": "code",
   "execution_count": 10,
   "id": "5052db92",
   "metadata": {},
   "outputs": [
    {
     "data": {
      "text/plain": [
       "array(['OPTIONS', 'GET', 'HEAD', 'POST'], dtype=object)"
      ]
     },
     "execution_count": 10,
     "metadata": {},
     "output_type": "execute_result"
    }
   ],
   "source": [
    "pd.unique(log_df['comando'].values)"
   ]
  },
  {
   "cell_type": "code",
   "execution_count": 14,
   "id": "aabec4e1",
   "metadata": {},
   "outputs": [
    {
     "data": {
      "text/plain": [
       "array(['localhost', 'www.akumenius.com', 'akumenius.com', 'akumenius.es',\n",
       "       'test.akumenius.com'], dtype=object)"
      ]
     },
     "execution_count": 14,
     "metadata": {},
     "output_type": "execute_result"
    }
   ],
   "source": [
    "pd.unique(log_df['sitio'].values)"
   ]
  },
  {
   "cell_type": "code",
   "execution_count": 16,
   "id": "79147f4a",
   "metadata": {},
   "outputs": [
    {
     "data": {
      "text/plain": [
       "www.akumenius.com     232300\n",
       "test.akumenius.com     14610\n",
       "localhost              14085\n",
       "akumenius.com            742\n",
       "akumenius.es              94\n",
       "Name: sitio, dtype: int64"
      ]
     },
     "execution_count": 16,
     "metadata": {},
     "output_type": "execute_result"
    }
   ],
   "source": [
    "    # dibujo los sitios que acceden los usuarios\n",
    "    # calculate the values to display (counts)\n",
    "    counts = log_df['sitio'].value_counts()\n",
    "    \n",
    "    counts"
   ]
  },
  {
   "cell_type": "code",
   "execution_count": 17,
   "id": "e9963b59",
   "metadata": {},
   "outputs": [
    {
     "data": {
      "image/png": "[encoded data removed]",
      "text/plain": [
       "<Figure size 648x648 with 1 Axes>"
      ]
     },
     "metadata": {},
     "output_type": "display_data"
    }
   ],
   "source": [
    "    # use a pie plot\n",
    "    counts_bar = counts.plot(kind='pie', y=log_df['sitio'], figsize =(9, 9))\n",
    "    \n",
    "    # set titles\n",
    "    counts_bar.set_title(\"Sitios accedidos por el usuario\", fontsize=16, weight=\"bold\")\n",
    "    plt.show()"
   ]
  },
  {
   "cell_type": "code",
   "execution_count": 18,
   "id": "65c2170f",
   "metadata": {},
   "outputs": [
    {
     "data": {
      "text/plain": [
       "(247746, 6)"
      ]
     },
     "execution_count": 18,
     "metadata": {},
     "output_type": "execute_result"
    }
   ],
   "source": [
    "# Puedo eliminar los 'localhost' ya que se trata de pruebas locales\n",
    "filtro = log_df['sitio'] != 'localhost'\n",
    "log_df = log_df.loc[filtro]\n",
    "log_df.shape"
   ]
  },
  {
   "cell_type": "code",
   "execution_count": 19,
   "id": "a92f0f04",
   "metadata": {},
   "outputs": [
    {
     "data": {
      "text/plain": [
       "array(['-'], dtype=object)"
      ]
     },
     "execution_count": 19,
     "metadata": {},
     "output_type": "execute_result"
    }
   ],
   "source": [
    "pd.unique(log_df['vlog'].values)"
   ]
  },
  {
   "cell_type": "code",
   "execution_count": 20,
   "id": "a758fbac",
   "metadata": {},
   "outputs": [
    {
     "data": {
      "text/html": [
       "<div>\n",
       "<style scoped>\n",
       "    .dataframe tbody tr th:only-of-type {\n",
       "        vertical-align: middle;\n",
       "    }\n",
       "\n",
       "    .dataframe tbody tr th {\n",
       "        vertical-align: top;\n",
       "    }\n",
       "\n",
       "    .dataframe thead th {\n",
       "        text-align: right;\n",
       "    }\n",
       "</style>\n",
       "<table border=\"1\" class=\"dataframe\">\n",
       "  <thead>\n",
       "    <tr style=\"text-align: right;\">\n",
       "      <th></th>\n",
       "      <th>sitio</th>\n",
       "      <th>ip</th>\n",
       "      <th>fecha</th>\n",
       "      <th>comando</th>\n",
       "      <th>parametros</th>\n",
       "    </tr>\n",
       "  </thead>\n",
       "  <tbody>\n",
       "    <tr>\n",
       "      <th>22</th>\n",
       "      <td>www.akumenius.com</td>\n",
       "      <td>66.249.76.216</td>\n",
       "      <td>2014-02-23 03:10:31.010</td>\n",
       "      <td>GET</td>\n",
       "      <td>/hoteles-baratos/ofertas-hotel-Club-&amp;-Hotel-L...</td>\n",
       "    </tr>\n",
       "    <tr>\n",
       "      <th>23</th>\n",
       "      <td>www.akumenius.com</td>\n",
       "      <td>66.249.76.216</td>\n",
       "      <td>2014-02-23 03:10:33.010</td>\n",
       "      <td>GET</td>\n",
       "      <td>/hoteles-baratos/ofertas-hotel-Metropolis-Hot...</td>\n",
       "    </tr>\n",
       "    <tr>\n",
       "      <th>24</th>\n",
       "      <td>www.akumenius.com</td>\n",
       "      <td>66.249.76.216</td>\n",
       "      <td>2014-02-23 03:10:35.010</td>\n",
       "      <td>GET</td>\n",
       "      <td>/hoteles-baratos/ofertas-hotel-Faena-Hotel-Bu...</td>\n",
       "    </tr>\n",
       "    <tr>\n",
       "      <th>25</th>\n",
       "      <td>www.akumenius.com</td>\n",
       "      <td>66.249.76.216</td>\n",
       "      <td>2014-02-23 03:10:38.010</td>\n",
       "      <td>GET</td>\n",
       "      <td>/hoteles-baratos/ofertas-hotel-Kensington-Tow...</td>\n",
       "    </tr>\n",
       "    <tr>\n",
       "      <th>26</th>\n",
       "      <td>www.akumenius.com</td>\n",
       "      <td>66.249.76.216</td>\n",
       "      <td>2014-02-23 03:10:39.010</td>\n",
       "      <td>GET</td>\n",
       "      <td>/destinos-baratos/destinosEstrelles/hoteles-e...</td>\n",
       "    </tr>\n",
       "    <tr>\n",
       "      <th>...</th>\n",
       "      <td>...</td>\n",
       "      <td>...</td>\n",
       "      <td>...</td>\n",
       "      <td>...</td>\n",
       "      <td>...</td>\n",
       "    </tr>\n",
       "    <tr>\n",
       "      <th>261865</th>\n",
       "      <td>akumenius.com</td>\n",
       "      <td>5.255.253.53</td>\n",
       "      <td>2014-03-02 03:05:35.010</td>\n",
       "      <td>GET</td>\n",
       "      <td>/ HTTP/1.1\" 301 301 \"-\" \"Mozilla/5.0 (compati...</td>\n",
       "    </tr>\n",
       "    <tr>\n",
       "      <th>261866</th>\n",
       "      <td>www.akumenius.com</td>\n",
       "      <td>5.255.253.53</td>\n",
       "      <td>2014-03-02 03:05:34.010</td>\n",
       "      <td>GET</td>\n",
       "      <td>/ HTTP/1.1\" 200 7528 \"-\" \"Mozilla/5.0 (compat...</td>\n",
       "    </tr>\n",
       "    <tr>\n",
       "      <th>261867</th>\n",
       "      <td>akumenius.es</td>\n",
       "      <td>5.255.253.53</td>\n",
       "      <td>2014-03-02 03:05:35.010</td>\n",
       "      <td>GET</td>\n",
       "      <td>/ HTTP/1.1\" 301 304 \"-\" \"Mozilla/5.0 (compati...</td>\n",
       "    </tr>\n",
       "    <tr>\n",
       "      <th>261868</th>\n",
       "      <td>www.akumenius.com</td>\n",
       "      <td>5.255.253.53</td>\n",
       "      <td>2014-03-02 03:05:39.010</td>\n",
       "      <td>GET</td>\n",
       "      <td>/ HTTP/1.1\" 200 7528 \"-\" \"Mozilla/5.0 (compat...</td>\n",
       "    </tr>\n",
       "    <tr>\n",
       "      <th>261869</th>\n",
       "      <td>www.akumenius.com</td>\n",
       "      <td>74.86.158.107</td>\n",
       "      <td>2014-03-02 03:09:52.010</td>\n",
       "      <td>HEAD</td>\n",
       "      <td>/ HTTP/1.1\" 200 - \"-\" \"Mozilla/5.0+(compatibl...</td>\n",
       "    </tr>\n",
       "  </tbody>\n",
       "</table>\n",
       "<p>247746 rows × 5 columns</p>\n",
       "</div>"
      ],
      "text/plain": [
       "                    sitio             ip                   fecha comando  \\\n",
       "22      www.akumenius.com  66.249.76.216 2014-02-23 03:10:31.010     GET   \n",
       "23      www.akumenius.com  66.249.76.216 2014-02-23 03:10:33.010     GET   \n",
       "24      www.akumenius.com  66.249.76.216 2014-02-23 03:10:35.010     GET   \n",
       "25      www.akumenius.com  66.249.76.216 2014-02-23 03:10:38.010     GET   \n",
       "26      www.akumenius.com  66.249.76.216 2014-02-23 03:10:39.010     GET   \n",
       "...                   ...            ...                     ...     ...   \n",
       "261865      akumenius.com   5.255.253.53 2014-03-02 03:05:35.010     GET   \n",
       "261866  www.akumenius.com   5.255.253.53 2014-03-02 03:05:34.010     GET   \n",
       "261867       akumenius.es   5.255.253.53 2014-03-02 03:05:35.010     GET   \n",
       "261868  www.akumenius.com   5.255.253.53 2014-03-02 03:05:39.010     GET   \n",
       "261869  www.akumenius.com  74.86.158.107 2014-03-02 03:09:52.010    HEAD   \n",
       "\n",
       "                                               parametros  \n",
       "22       /hoteles-baratos/ofertas-hotel-Club-&-Hotel-L...  \n",
       "23       /hoteles-baratos/ofertas-hotel-Metropolis-Hot...  \n",
       "24       /hoteles-baratos/ofertas-hotel-Faena-Hotel-Bu...  \n",
       "25       /hoteles-baratos/ofertas-hotel-Kensington-Tow...  \n",
       "26       /destinos-baratos/destinosEstrelles/hoteles-e...  \n",
       "...                                                   ...  \n",
       "261865   / HTTP/1.1\" 301 301 \"-\" \"Mozilla/5.0 (compati...  \n",
       "261866   / HTTP/1.1\" 200 7528 \"-\" \"Mozilla/5.0 (compat...  \n",
       "261867   / HTTP/1.1\" 301 304 \"-\" \"Mozilla/5.0 (compati...  \n",
       "261868   / HTTP/1.1\" 200 7528 \"-\" \"Mozilla/5.0 (compat...  \n",
       "261869   / HTTP/1.1\" 200 - \"-\" \"Mozilla/5.0+(compatibl...  \n",
       "\n",
       "[247746 rows x 5 columns]"
      ]
     },
     "execution_count": 20,
     "metadata": {},
     "output_type": "execute_result"
    }
   ],
   "source": [
    "# elimino la columna vlog porque sólo aparece el valor '-'\n",
    "log_df = log_df.drop(['vlog'], axis=1)\n",
    "log_df"
   ]
  },
  {
   "cell_type": "code",
   "execution_count": 21,
   "id": "a4d93f6d",
   "metadata": {},
   "outputs": [
    {
     "data": {
      "text/html": [
       "<div>\n",
       "<style scoped>\n",
       "    .dataframe tbody tr th:only-of-type {\n",
       "        vertical-align: middle;\n",
       "    }\n",
       "\n",
       "    .dataframe tbody tr th {\n",
       "        vertical-align: top;\n",
       "    }\n",
       "\n",
       "    .dataframe thead th {\n",
       "        text-align: right;\n",
       "    }\n",
       "</style>\n",
       "<table border=\"1\" class=\"dataframe\">\n",
       "  <thead>\n",
       "    <tr style=\"text-align: right;\">\n",
       "      <th></th>\n",
       "      <th>sitio</th>\n",
       "      <th>ip</th>\n",
       "      <th>fecha</th>\n",
       "      <th>comando</th>\n",
       "      <th>parametros</th>\n",
       "    </tr>\n",
       "  </thead>\n",
       "  <tbody>\n",
       "    <tr>\n",
       "      <th>25071</th>\n",
       "      <td>test.akumenius.com</td>\n",
       "      <td>174.129.237.157</td>\n",
       "      <td>2014-02-23 17:14:31.010</td>\n",
       "      <td>GET</td>\n",
       "      <td>/robots.txt HTTP/1.0\" 200 819 \"-\" \"ia_archive...</td>\n",
       "    </tr>\n",
       "    <tr>\n",
       "      <th>25072</th>\n",
       "      <td>test.akumenius.com</td>\n",
       "      <td>174.129.237.157</td>\n",
       "      <td>2014-02-23 17:14:31.010</td>\n",
       "      <td>GET</td>\n",
       "      <td>/hoteles-baratos/ofertas-hoteles-en-grecia.ht...</td>\n",
       "    </tr>\n",
       "    <tr>\n",
       "      <th>25095</th>\n",
       "      <td>test.akumenius.com</td>\n",
       "      <td>174.129.237.157</td>\n",
       "      <td>2014-02-23 17:15:35.010</td>\n",
       "      <td>GET</td>\n",
       "      <td>/newdesign/faq HTTP/1.0\" 200 16976 \"-\" \"ia_ar...</td>\n",
       "    </tr>\n",
       "    <tr>\n",
       "      <th>46068</th>\n",
       "      <td>test.akumenius.com</td>\n",
       "      <td>174.129.237.157</td>\n",
       "      <td>2014-02-24 04:42:46.010</td>\n",
       "      <td>GET</td>\n",
       "      <td>/robots.txt HTTP/1.0\" 200 819 \"-\" \"ia_archive...</td>\n",
       "    </tr>\n",
       "    <tr>\n",
       "      <th>46602</th>\n",
       "      <td>test.akumenius.com</td>\n",
       "      <td>174.129.237.157</td>\n",
       "      <td>2014-02-24 05:24:47.010</td>\n",
       "      <td>GET</td>\n",
       "      <td>/escapadas/navidad-fin-de-a-972.html HTTP/1.0...</td>\n",
       "    </tr>\n",
       "    <tr>\n",
       "      <th>...</th>\n",
       "      <td>...</td>\n",
       "      <td>...</td>\n",
       "      <td>...</td>\n",
       "      <td>...</td>\n",
       "      <td>...</td>\n",
       "    </tr>\n",
       "    <tr>\n",
       "      <th>257530</th>\n",
       "      <td>test.akumenius.com</td>\n",
       "      <td>80.39.210.69</td>\n",
       "      <td>2014-03-01 20:03:30.010</td>\n",
       "      <td>GET</td>\n",
       "      <td>/newdesign/libraries/jqueryui/css/ui-lightnes...</td>\n",
       "    </tr>\n",
       "    <tr>\n",
       "      <th>259814</th>\n",
       "      <td>test.akumenius.com</td>\n",
       "      <td>174.129.237.157</td>\n",
       "      <td>2014-03-01 23:08:43.010</td>\n",
       "      <td>GET</td>\n",
       "      <td>/escapadas/culturales-499.html HTTP/1.0\" 200 ...</td>\n",
       "    </tr>\n",
       "    <tr>\n",
       "      <th>260112</th>\n",
       "      <td>test.akumenius.com</td>\n",
       "      <td>174.129.237.157</td>\n",
       "      <td>2014-03-01 23:40:37.010</td>\n",
       "      <td>GET</td>\n",
       "      <td>/escapadas/rural-974.html HTTP/1.0\" 200 71578...</td>\n",
       "    </tr>\n",
       "    <tr>\n",
       "      <th>260490</th>\n",
       "      <td>test.akumenius.com</td>\n",
       "      <td>174.129.237.157</td>\n",
       "      <td>2014-03-02 00:00:35.010</td>\n",
       "      <td>GET</td>\n",
       "      <td>/escapadas/lugo-545.html HTTP/1.0\" 200 33747 ...</td>\n",
       "    </tr>\n",
       "    <tr>\n",
       "      <th>261429</th>\n",
       "      <td>test.akumenius.com</td>\n",
       "      <td>174.129.237.157</td>\n",
       "      <td>2014-03-02 01:42:24.010</td>\n",
       "      <td>GET</td>\n",
       "      <td>/newdesign/escapadas/hotel-spa-493.html HTTP/...</td>\n",
       "    </tr>\n",
       "  </tbody>\n",
       "</table>\n",
       "<p>14610 rows × 5 columns</p>\n",
       "</div>"
      ],
      "text/plain": [
       "                     sitio               ip                   fecha comando  \\\n",
       "25071   test.akumenius.com  174.129.237.157 2014-02-23 17:14:31.010     GET   \n",
       "25072   test.akumenius.com  174.129.237.157 2014-02-23 17:14:31.010     GET   \n",
       "25095   test.akumenius.com  174.129.237.157 2014-02-23 17:15:35.010     GET   \n",
       "46068   test.akumenius.com  174.129.237.157 2014-02-24 04:42:46.010     GET   \n",
       "46602   test.akumenius.com  174.129.237.157 2014-02-24 05:24:47.010     GET   \n",
       "...                    ...              ...                     ...     ...   \n",
       "257530  test.akumenius.com     80.39.210.69 2014-03-01 20:03:30.010     GET   \n",
       "259814  test.akumenius.com  174.129.237.157 2014-03-01 23:08:43.010     GET   \n",
       "260112  test.akumenius.com  174.129.237.157 2014-03-01 23:40:37.010     GET   \n",
       "260490  test.akumenius.com  174.129.237.157 2014-03-02 00:00:35.010     GET   \n",
       "261429  test.akumenius.com  174.129.237.157 2014-03-02 01:42:24.010     GET   \n",
       "\n",
       "                                               parametros  \n",
       "25071    /robots.txt HTTP/1.0\" 200 819 \"-\" \"ia_archive...  \n",
       "25072    /hoteles-baratos/ofertas-hoteles-en-grecia.ht...  \n",
       "25095    /newdesign/faq HTTP/1.0\" 200 16976 \"-\" \"ia_ar...  \n",
       "46068    /robots.txt HTTP/1.0\" 200 819 \"-\" \"ia_archive...  \n",
       "46602    /escapadas/navidad-fin-de-a-972.html HTTP/1.0...  \n",
       "...                                                   ...  \n",
       "257530   /newdesign/libraries/jqueryui/css/ui-lightnes...  \n",
       "259814   /escapadas/culturales-499.html HTTP/1.0\" 200 ...  \n",
       "260112   /escapadas/rural-974.html HTTP/1.0\" 200 71578...  \n",
       "260490   /escapadas/lugo-545.html HTTP/1.0\" 200 33747 ...  \n",
       "261429   /newdesign/escapadas/hotel-spa-493.html HTTP/...  \n",
       "\n",
       "[14610 rows x 5 columns]"
      ]
     },
     "execution_count": 21,
     "metadata": {},
     "output_type": "execute_result"
    }
   ],
   "source": [
    "# que forma tienen los accesos a test.akumenius.com, parece un sitio de test \n",
    "log_df.loc[log_df['sitio'] == 'test.akumenius.com']"
   ]
  },
  {
   "cell_type": "code",
   "execution_count": 22,
   "id": "c6a7ac4b",
   "metadata": {},
   "outputs": [
    {
     "data": {
      "text/plain": [
       "GET     229336\n",
       "POST     16646\n",
       "HEAD      1764\n",
       "Name: comando, dtype: int64"
      ]
     },
     "execution_count": 22,
     "metadata": {},
     "output_type": "execute_result"
    }
   ],
   "source": [
    "    # dibujo los comandos que usan los usuarios\n",
    "    # calculate the values to display (counts)\n",
    "    counts = log_df['comando'].value_counts()\n",
    "    \n",
    "    counts"
   ]
  },
  {
   "cell_type": "code",
   "execution_count": 23,
   "id": "a559c404",
   "metadata": {},
   "outputs": [
    {
     "data": {
      "image/png": "[encoded data removed]",
      "text/plain": [
       "<Figure size 648x648 with 1 Axes>"
      ]
     },
     "metadata": {},
     "output_type": "display_data"
    }
   ],
   "source": [
    "    # use a pie plot\n",
    "    counts_bar = counts.plot(kind='pie', y=log_df['comando'], figsize =(9, 9))\n",
    "    \n",
    "    # set titles\n",
    "    counts_bar.set_title(\"Comandos usados por el usuario\", fontsize=16, weight=\"bold\")\n",
    "    plt.show()"
   ]
  },
  {
   "cell_type": "markdown",
   "id": "8258d333",
   "metadata": {},
   "source": [
    "### La mayoría de los comandos son GET y a la dirección www.akumenius.com"
   ]
  },
  {
   "cell_type": "code",
   "execution_count": 27,
   "id": "1c7cd031",
   "metadata": {},
   "outputs": [
    {
     "data": {
      "text/plain": [
       "sitio         0\n",
       "ip            0\n",
       "fecha         0\n",
       "comando       0\n",
       "parametros    0\n",
       "dtype: int64"
      ]
     },
     "execution_count": 27,
     "metadata": {},
     "output_type": "execute_result"
    }
   ],
   "source": [
    "# hay valores vacíos?\n",
    "log_df.isna().sum()"
   ]
  },
  {
   "cell_type": "code",
   "execution_count": 45,
   "id": "927bbdd4",
   "metadata": {},
   "outputs": [
    {
     "data": {
      "text/plain": [
       "2858"
      ]
     },
     "execution_count": 45,
     "metadata": {},
     "output_type": "execute_result"
    }
   ],
   "source": [
    "# desde cuántas direcciones distintas se accedió a las páginas?\n",
    "ip_unicas = pd.unique(log_df['ip'].values)\n",
    "len(ip_unicas)\n"
   ]
  },
  {
   "cell_type": "code",
   "execution_count": 85,
   "id": "a016dcb6",
   "metadata": {},
   "outputs": [
    {
     "data": {
      "text/html": [
       "<div>\n",
       "<style scoped>\n",
       "    .dataframe tbody tr th:only-of-type {\n",
       "        vertical-align: middle;\n",
       "    }\n",
       "\n",
       "    .dataframe tbody tr th {\n",
       "        vertical-align: top;\n",
       "    }\n",
       "\n",
       "    .dataframe thead tr th {\n",
       "        text-align: left;\n",
       "    }\n",
       "\n",
       "    .dataframe thead tr:last-of-type th {\n",
       "        text-align: right;\n",
       "    }\n",
       "</style>\n",
       "<table border=\"1\" class=\"dataframe\">\n",
       "  <thead>\n",
       "    <tr>\n",
       "      <th></th>\n",
       "      <th></th>\n",
       "      <th>ip</th>\n",
       "    </tr>\n",
       "    <tr>\n",
       "      <th></th>\n",
       "      <th></th>\n",
       "      <th>cant</th>\n",
       "    </tr>\n",
       "    <tr>\n",
       "      <th>sitio</th>\n",
       "      <th>ip</th>\n",
       "      <th></th>\n",
       "    </tr>\n",
       "  </thead>\n",
       "  <tbody>\n",
       "    <tr>\n",
       "      <th rowspan=\"5\" valign=\"top\">akumenius.com</th>\n",
       "      <th>108.168.250.12</th>\n",
       "      <td>1</td>\n",
       "    </tr>\n",
       "    <tr>\n",
       "      <th>109.200.159.118</th>\n",
       "      <td>1</td>\n",
       "    </tr>\n",
       "    <tr>\n",
       "      <th>109.208.120.233</th>\n",
       "      <td>1</td>\n",
       "    </tr>\n",
       "    <tr>\n",
       "      <th>109.211.53.111</th>\n",
       "      <td>1</td>\n",
       "    </tr>\n",
       "    <tr>\n",
       "      <th>109.217.107.218</th>\n",
       "      <td>1</td>\n",
       "    </tr>\n",
       "    <tr>\n",
       "      <th>...</th>\n",
       "      <th>...</th>\n",
       "      <td>...</td>\n",
       "    </tr>\n",
       "    <tr>\n",
       "      <th rowspan=\"5\" valign=\"top\">www.akumenius.com</th>\n",
       "      <th>95.63.234.126</th>\n",
       "      <td>264</td>\n",
       "    </tr>\n",
       "    <tr>\n",
       "      <th>95.63.60.249</th>\n",
       "      <td>154</td>\n",
       "    </tr>\n",
       "    <tr>\n",
       "      <th>96.242.31.129</th>\n",
       "      <td>52</td>\n",
       "    </tr>\n",
       "    <tr>\n",
       "      <th>98.137.206.41</th>\n",
       "      <td>11</td>\n",
       "    </tr>\n",
       "    <tr>\n",
       "      <th>98.244.10.248</th>\n",
       "      <td>91</td>\n",
       "    </tr>\n",
       "  </tbody>\n",
       "</table>\n",
       "<p>3170 rows × 1 columns</p>\n",
       "</div>"
      ],
      "text/plain": [
       "                                    ip\n",
       "                                  cant\n",
       "sitio             ip                  \n",
       "akumenius.com     108.168.250.12     1\n",
       "                  109.200.159.118    1\n",
       "                  109.208.120.233    1\n",
       "                  109.211.53.111     1\n",
       "                  109.217.107.218    1\n",
       "...                                ...\n",
       "www.akumenius.com 95.63.234.126    264\n",
       "                  95.63.60.249     154\n",
       "                  96.242.31.129     52\n",
       "                  98.137.206.41     11\n",
       "                  98.244.10.248     91\n",
       "\n",
       "[3170 rows x 1 columns]"
      ]
     },
     "execution_count": 85,
     "metadata": {},
     "output_type": "execute_result"
    }
   ],
   "source": [
    "#log_df.groupby(['sitio','ip']).count()\n",
    "g= log_df.groupby(['sitio','ip'], axis=0).agg({'ip': [len]}).rename(columns={\"len\": \"cant\"})\n",
    "g"
   ]
  },
  {
   "cell_type": "markdown",
   "id": "1d86f64a",
   "metadata": {},
   "source": [
    "### Obtener los datos de geolocalización\n",
    "Utilizo ip-api para obtener los datos de geolocalización\n",
    "Sólo tomo las 6 IPs que más consultas hicieron porque la API tiene un límite de consultas gratuitas"
   ]
  },
  {
   "cell_type": "code",
   "execution_count": 111,
   "id": "b830be45",
   "metadata": {},
   "outputs": [
    {
     "data": {
      "text/html": [
       "<div>\n",
       "<style scoped>\n",
       "    .dataframe tbody tr th:only-of-type {\n",
       "        vertical-align: middle;\n",
       "    }\n",
       "\n",
       "    .dataframe tbody tr th {\n",
       "        vertical-align: top;\n",
       "    }\n",
       "\n",
       "    .dataframe thead tr th {\n",
       "        text-align: left;\n",
       "    }\n",
       "\n",
       "    .dataframe thead tr:last-of-type th {\n",
       "        text-align: right;\n",
       "    }\n",
       "</style>\n",
       "<table border=\"1\" class=\"dataframe\">\n",
       "  <thead>\n",
       "    <tr>\n",
       "      <th></th>\n",
       "      <th></th>\n",
       "      <th>ip</th>\n",
       "    </tr>\n",
       "    <tr>\n",
       "      <th></th>\n",
       "      <th></th>\n",
       "      <th>cant</th>\n",
       "    </tr>\n",
       "    <tr>\n",
       "      <th>sitio</th>\n",
       "      <th>ip</th>\n",
       "      <th></th>\n",
       "    </tr>\n",
       "  </thead>\n",
       "  <tbody>\n",
       "    <tr>\n",
       "      <th>www.akumenius.com</th>\n",
       "      <th>66.249.76.216</th>\n",
       "      <td>46382</td>\n",
       "    </tr>\n",
       "    <tr>\n",
       "      <th>test.akumenius.com</th>\n",
       "      <th>80.28.221.123</th>\n",
       "      <td>12982</td>\n",
       "    </tr>\n",
       "    <tr>\n",
       "      <th rowspan=\"4\" valign=\"top\">www.akumenius.com</th>\n",
       "      <th>217.125.71.222</th>\n",
       "      <td>3995</td>\n",
       "    </tr>\n",
       "    <tr>\n",
       "      <th>66.249.75.148</th>\n",
       "      <td>3558</td>\n",
       "    </tr>\n",
       "    <tr>\n",
       "      <th>162.243.192.191</th>\n",
       "      <td>2927</td>\n",
       "    </tr>\n",
       "    <tr>\n",
       "      <th>62.117.197.230</th>\n",
       "      <td>2567</td>\n",
       "    </tr>\n",
       "  </tbody>\n",
       "</table>\n",
       "</div>"
      ],
      "text/plain": [
       "                                       ip\n",
       "                                     cant\n",
       "sitio              ip                    \n",
       "www.akumenius.com  66.249.76.216    46382\n",
       "test.akumenius.com 80.28.221.123    12982\n",
       "www.akumenius.com  217.125.71.222    3995\n",
       "                   66.249.75.148     3558\n",
       "                   162.243.192.191   2927\n",
       "                   62.117.197.230    2567"
      ]
     },
     "execution_count": 111,
     "metadata": {},
     "output_type": "execute_result"
    }
   ],
   "source": [
    "import requests\n",
    "import json\n",
    "import pandas as pd\n",
    "\n",
    "# URL de la API usada para geolocalización\n",
    "api_url = \"http://ip-api.com/json/\"\n",
    "\n",
    "\n",
    "res = g.apply(lambda x: x.sort_values(ascending=False).head(6))\n",
    "res"
   ]
  },
  {
   "cell_type": "code",
   "execution_count": 112,
   "id": "0d047948",
   "metadata": {},
   "outputs": [
    {
     "data": {
      "text/html": [
       "<div>\n",
       "<style scoped>\n",
       "    .dataframe tbody tr th:only-of-type {\n",
       "        vertical-align: middle;\n",
       "    }\n",
       "\n",
       "    .dataframe tbody tr th {\n",
       "        vertical-align: top;\n",
       "    }\n",
       "\n",
       "    .dataframe thead tr th {\n",
       "        text-align: left;\n",
       "    }\n",
       "</style>\n",
       "<table border=\"1\" class=\"dataframe\">\n",
       "  <thead>\n",
       "    <tr>\n",
       "      <th></th>\n",
       "      <th>sitio</th>\n",
       "      <th colspan=\"2\" halign=\"left\">ip</th>\n",
       "    </tr>\n",
       "    <tr>\n",
       "      <th></th>\n",
       "      <th></th>\n",
       "      <th></th>\n",
       "      <th>cant</th>\n",
       "    </tr>\n",
       "  </thead>\n",
       "  <tbody>\n",
       "    <tr>\n",
       "      <th>0</th>\n",
       "      <td>www.akumenius.com</td>\n",
       "      <td>66.249.76.216</td>\n",
       "      <td>46382</td>\n",
       "    </tr>\n",
       "    <tr>\n",
       "      <th>1</th>\n",
       "      <td>test.akumenius.com</td>\n",
       "      <td>80.28.221.123</td>\n",
       "      <td>12982</td>\n",
       "    </tr>\n",
       "    <tr>\n",
       "      <th>2</th>\n",
       "      <td>www.akumenius.com</td>\n",
       "      <td>217.125.71.222</td>\n",
       "      <td>3995</td>\n",
       "    </tr>\n",
       "    <tr>\n",
       "      <th>3</th>\n",
       "      <td>www.akumenius.com</td>\n",
       "      <td>66.249.75.148</td>\n",
       "      <td>3558</td>\n",
       "    </tr>\n",
       "    <tr>\n",
       "      <th>4</th>\n",
       "      <td>www.akumenius.com</td>\n",
       "      <td>162.243.192.191</td>\n",
       "      <td>2927</td>\n",
       "    </tr>\n",
       "    <tr>\n",
       "      <th>5</th>\n",
       "      <td>www.akumenius.com</td>\n",
       "      <td>62.117.197.230</td>\n",
       "      <td>2567</td>\n",
       "    </tr>\n",
       "  </tbody>\n",
       "</table>\n",
       "</div>"
      ],
      "text/plain": [
       "                sitio               ip       \n",
       "                                         cant\n",
       "0   www.akumenius.com    66.249.76.216  46382\n",
       "1  test.akumenius.com    80.28.221.123  12982\n",
       "2   www.akumenius.com   217.125.71.222   3995\n",
       "3   www.akumenius.com    66.249.75.148   3558\n",
       "4   www.akumenius.com  162.243.192.191   2927\n",
       "5   www.akumenius.com   62.117.197.230   2567"
      ]
     },
     "execution_count": 112,
     "metadata": {},
     "output_type": "execute_result"
    }
   ],
   "source": [
    "res = res.reset_index()\n",
    "\n",
    "res"
   ]
  },
  {
   "cell_type": "code",
   "execution_count": 117,
   "id": "800c254c",
   "metadata": {},
   "outputs": [
    {
     "data": {
      "text/plain": [
       "MultiIndex([('sitio',     ''),\n",
       "            (   'ip',     ''),\n",
       "            (   'ip', 'cant')],\n",
       "           )"
      ]
     },
     "execution_count": 117,
     "metadata": {},
     "output_type": "execute_result"
    }
   ],
   "source": [
    "res.columns"
   ]
  },
  {
   "cell_type": "code",
   "execution_count": 120,
   "id": "00d6d899",
   "metadata": {},
   "outputs": [
    {
     "data": {
      "text/plain": [
       "0      66.249.76.216\n",
       "1      80.28.221.123\n",
       "2     217.125.71.222\n",
       "3      66.249.75.148\n",
       "4    162.243.192.191\n",
       "5     62.117.197.230\n",
       "Name: (ip, ), dtype: object"
      ]
     },
     "execution_count": 120,
     "metadata": {},
     "output_type": "execute_result"
    }
   ],
   "source": [
    "ips = res[(   'ip',     '')]\n",
    "ips"
   ]
  },
  {
   "cell_type": "code",
   "execution_count": 122,
   "id": "66fe93d0",
   "metadata": {},
   "outputs": [],
   "source": [
    "# la función que hace la conexión con la API de geolocalización\n",
    "# devulve todos los datos de la IP en formato JSON\n",
    "\n",
    "def ip_scraping(ip=\"\"):\n",
    " # Conexión con la API\n",
    " res = requests.get(api_url+ip, data=data)\n",
    " # Obtenemos y procesamos la respuesta JSON\n",
    " api_json_res = json.loads(res.content)\n",
    " return api_json_res"
   ]
  },
  {
   "cell_type": "code",
   "execution_count": 124,
   "id": "e412b4d4",
   "metadata": {},
   "outputs": [
    {
     "name": "stdout",
     "output_type": "stream",
     "text": [
      "IP analizada:  66.249.76.216\n",
      "COUNTRY : United States\n",
      "COUNTRYCODE : US\n",
      "CITY : Mountain View\n",
      "LAT : 37.422\n",
      "LON : -122.084\n",
      "ISP : Google LLC\n",
      "ORG : Google LLC\n",
      "\n",
      "\n",
      "IP analizada:  80.28.221.123\n",
      "COUNTRY : Spain\n",
      "COUNTRYCODE : ES\n",
      "CITY : Madrid\n",
      "LAT : 40.5005\n",
      "LON : -3.66739\n",
      "ISP : TDENET (Red de servicios IP)\n",
      "ORG : \n",
      "\n",
      "\n",
      "IP analizada:  217.125.71.222\n",
      "COUNTRY : Spain\n",
      "COUNTRYCODE : ES\n",
      "CITY : Tocina\n",
      "LAT : 37.6025\n",
      "LON : -5.7307\n",
      "ISP : Telefonica de Espana SAU\n",
      "ORG : TDENET (Red de servicios IP)\n",
      "\n",
      "\n",
      "IP analizada:  66.249.75.148\n",
      "COUNTRY : United States\n",
      "COUNTRYCODE : US\n",
      "CITY : Mountain View\n",
      "LAT : 37.422\n",
      "LON : -122.084\n",
      "ISP : Google LLC\n",
      "ORG : Google LLC\n",
      "\n",
      "\n",
      "IP analizada:  162.243.192.191\n",
      "COUNTRY : United States\n",
      "COUNTRYCODE : US\n",
      "CITY : New York\n",
      "LAT : 40.7316\n",
      "LON : -73.9985\n",
      "ISP : DigitalOcean, LLC\n",
      "ORG : Digital Ocean\n",
      "\n",
      "\n",
      "IP analizada:  62.117.197.230\n",
      "COUNTRY : Spain\n",
      "COUNTRYCODE : ES\n",
      "CITY : Madrid\n",
      "LAT : 40.4163\n",
      "LON : -3.6934\n",
      "ISP : Ono\n",
      "ORG : ONO_HFC\n",
      "\n",
      "\n"
     ]
    }
   ],
   "source": [
    "# Definimos los parametros de respuesta que queremos obtener\n",
    "parametros = 'country,countryCode,city,lat,lon,isp,org'\n",
    "data = {\"fields\":parametros}\n",
    "\n",
    "for valor in ips:\n",
    "    print('IP analizada: ', valor)\n",
    "    # Llamamos a la función ip_scraping y mostramos los resultados\n",
    "    par = parametros.split(\",\")\n",
    "    if ip_scraping(valor)['status'] == 'success':\n",
    "        for x in par:\n",
    "          print(x.upper(), \":\", ip_scraping(valor)[x])\n",
    "    else:\n",
    "        print('IP no encontrada')\n",
    "    print('\\n')"
   ]
  },
  {
   "cell_type": "markdown",
   "id": "2ae8bbe1",
   "metadata": {},
   "source": [
    "## Exercici 3\n",
    "Ir más allá..."
   ]
  },
  {
   "cell_type": "code",
   "execution_count": null,
   "id": "3d5dbd92",
   "metadata": {},
   "outputs": [],
   "source": []
  }
 ],
 "metadata": {
  "kernelspec": {
   "display_name": "Python 3",
   "language": "python",
   "name": "python3"
  },
  "language_info": {
   "codemirror_mode": {
    "name": "ipython",
    "version": 3
   },
   "file_extension": ".py",
   "mimetype": "text/x-python",
   "name": "python",
   "nbconvert_exporter": "python",
   "pygments_lexer": "ipython3",
   "version": "3.8.8"
  }
 },
 "nbformat": 4,
 "nbformat_minor": 5
}
